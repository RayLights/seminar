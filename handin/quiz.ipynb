{
 "cells": [
  {
   "cell_type": "markdown",
   "metadata": {},
   "source": [
    "## Data Mining\n",
    "### Data Cleaning\n",
    "It is not uncommon for the data obtained to be of poor quality and difficult to work with. This may include the presence of missing values, outliers, or spelling mistakes, which are particularly prevalent in user-generated data.\n",
    "\n",
    "\n",
    "To enhance the comparability of the data, various approaches can be employed. If the data follows a normal distribution and statistical models that assume such a distribution are to be used, standardisation is the most common method. Otherwise, normalisation is the most frequently used technique to improve data comparability. Standardisation is not susceptible to outliers, and thus the removal of these as a preliminary stage can be omitted. \n",
    "\n",
    "### Feature Extraction\n",
    "Machine learning algorithms require the given data to be in certain numerical formats. In this step it is necessary to transform the data into the needed format to allow further processing. Additionally this allows the machine learning algorithm to receive a more effective set of inputs, which increases accuracy and lowers the computational need for machine learning algorithms. \n",
    "\n",
    "#### Over- and Underfitting\n",
    "\n",
    "<center>\n",
    "\n",
    "<img src=\"images/overUnderfitting.png\" title=\"Over- and Under-fitting\" width=\"500\">\n",
    "\n",
    "<i> A common problem when working with a machine learning algorithm to create a model that discoveres patterns in unknown data. On the left is Underfitting, when the model is too simple to capture the complexity of the data. In the middle is the desired outcome of a data model. On the right is the example of Overfitting which occurs when a machine learning algorithms detects noise as data. Figure from [Anup Bhande, 2018](https://medium.com/greyatom/what-is-underfitting-and-overfitting-in-machine-learning-and-how-to-deal-with-it-6803a989c76). \n",
    "</i>\n",
    "\n",
    "</center>\n",
    "\n",
    "### Feature Selection\n",
    "Feature selection is a critical part in data mining due to numerous reasons. As only relevant features are being considered, the dimensionality of the data set is reduced and is more efficient, accurate and less prone to overfitting. Furthermore less features lead to a better understanding of the learning result.\n",
    "The following figure explains the Hughes phenomenon, where a higher amount of features deteriorates the model's performance. Additional features may introduce noise, which lead to a decrease in classification accuracy ([Hughes,1968](#references)). \n",
    "\n",
    "<center>\n",
    "\n",
    "<img src=\"images/hughesScreen.png\" title=\"hughes\" width=\"300\">\n",
    "\n",
    "<i>Hughes phenomenon, a increase of number of features decreases the accuracy of the classification model. Figure from [Weinmann(2019)](http://www.eurosdr.net/sites/default/files/images/inline/05-2019-12-04_presentation_pcp_workshop_weinmann.pdf).  </i>\n",
    "\n",
    "</center>\n",
    "\n",
    "There are three notable categories of feature selection. \n",
    "Filter-based methods that include statistical tests to assess the correlation between various features. These filters for example remove features with low variance, since they are deemed to have little information. Because they are classifier-independent, simple and efficient they are often used. Alternativley Wrapper-based methods or Embedded methods can be used ([Weinmann, 2016](#references)).\n",
    "\n",
    "### Model Selection \n",
    "Two overarching themes emerge when selecting a model: supervised and unsupervised learning models.\n",
    " Supervised machine learning includes classification which is heavily used in image recognition. Example of classification models that categorize data into labels, are Decision Trees, Support Vector Machines and k-Nearest Neighbors. \n",
    "Supervised learning also includes regression models which describes a functions that models the correlation of a independent variable and a target variable. The correlation of systolic blood pressure and amount of coffee a person drinks is a example of a linear regression. \n",
    "\n",
    "In unsupervised classification the algorithm tries to assign each data point to a cluster. The number of clusters to be extracted depends on the algorithm. In the case of kMeans, the user must input the desired number of clusters. Alternatively, in the case of DBSCAN, the user must definde the distance between two points to form a new cluster.\n",
    "These algorithms work without training labels, so the user has to understand the output clusters. \n",
    "\n",
    "Deep learning as the machine learning algorithm called representation learning harvest the benefit, of the algorithm which learns the features from the data itself. The algorithm is then capable of representing the data in a way that eases classification or regression ([E-Trainee: module3, lesson 5](#references)).\n",
    "\n",
    "### Model training\n",
    "Models are prone to be overfitted when too many features are selected, sufficient data not being available to train the model or if the data is noisy. This noise may easily be detected as a pattern by the model. \n",
    "In order to detect overfitting the data set is split into a training and a validation set. After training, the model is presented the validation set and the perfomance is tracked. If they diverge, then it can be concluded that the model is overfitting. To tackle underfitting additonal features can be selected, the complexity of the model can be raised or a increase of duration of training the model ([Scikit-learn](https://scikit-learn.org/stable/auto_examples/model_selection/plot_underfitting_overfitting.html)).\n"
   ]
  },
  {
   "cell_type": "markdown",
   "metadata": {},
   "source": [
    "### Model evaluation\n",
    "To evaluate the model there are various methodlogies that may be applied. For regression Mean Absolute Error or Mean Squared Error are often applied. To evaluate a classification model one can calculate the Accuracy which is the proprotion of correctly classified instances. Furthermore, the Precision, that measures the quality of positive predictions, Recall, the ability of the classifier to find all the positive samples, and the F1-score, which is the Harmonic mean of precision and recall, illustrate various metrics to evaluate a classifier ([Scikit-learn](https://scikit-learn.org/stable/modules/model_evaluation.html)) ([Christopher D. Manning et. al., 2009](#references)).\n"
   ]
  },
  {
   "cell_type": "markdown",
   "metadata": {},
   "source": [
    "\n",
    "\n",
    "<form name=\"quiz\" action=\"\" method=\"post\" onsubmit=\"evaluate_quiz(); return false\">\n",
    "<!--Question 1-->\n",
    "<label for=\"q_01\">\n",
    "What is feature extraction?\n",
    "</label><br>\n",
    "<input type=\"radio\" name=\"q_01\"> Selecting which features we want to use <br>\n",
    "<input type=\"radio\" name=\"q_01\"> Converting the input data into necessary format for the ML algorithm<br>\n",
    "<input type=\"radio\" name=\"q_01\"> Applying data augmentation techniques to artificially expand the training dataset  <br>\n",
    "<input type=\"radio\" name=\"q_01\"> Splitting the dataset into training and testing subsets <br>\n",
    "\n",
    "<div id=\"correct_q_01\" hidden=\"\">\n",
    "\n",
    "Converting the input data into necessary format for the ML algorithm\n",
    "  \n",
    "</div>\n",
    "\n",
    "<output id=\"output_q_01\">\n",
    "</output>\n",
    "    \n",
    "<br><br> \n",
    "<!--Question 2-->    \n",
    "<label for=\"q_02\">\n",
    "What does the Hughes Phenomonen describe? \n",
    "</label><br>\n",
    "<input type=\"radio\" name=\"q_02\"> More features lead to a more exact model <br>\n",
    "<input type=\"radio\" name=\"q_02\"> Too many features lower the models perfomance<br>\n",
    "<input type=\"radio\" name=\"q_02\"> Selecting only one feature always leads to the best perfomance  <br>\n",
    "\n",
    "<div id=\"correct_q_02\" hidden=\"\">\n",
    "\n",
    "Too many features lower the models perfomance\n",
    "  \n",
    "</div>\n",
    "\n",
    "<output id=\"output_q_02\">\n",
    "</output>\n",
    "    \n",
    "<br><br>       \n",
    "\n",
    "<!--Question 3-->    \n",
    "<label for=\"q_03\">\n",
    "What is the main difference between filter based methods vs Embedded or Wrapper based methods?\n",
    "</label><br>\n",
    "<textarea rows = \"5\" cols = \"50\" name = \"q_03\"></textarea><br>\n",
    "\n",
    "<div id=\"correct_q_03\" hidden=\"\">\n",
    "\n",
    "Filter based methods are classifier-independent.\n",
    "  \n",
    "</div>\n",
    "\n",
    "<output id=\"output_q_03\">\n",
    "</output>\n",
    "    \n",
    "<br><br>      \n",
    "\n",
    "<!--Question 4--> \n",
    "<label for=\"q_04\">\n",
    "Sort the following algorithms to either supervised or unsupervised learning:<br>\n",
    "\n",
    "Decision Trees,kMeans, Support Vector Machines, k-Nearest Neighbors, DBSCAN, linear regression\n",
    "</label><br>\n",
    "<textarea rows = \"5\" cols = \"50\" name = \"q_04\"></textarea><br>\n",
    "\n",
    "<div id=\"correct_q_04\" hidden=\"\">\n",
    "supervised:\n",
    "Decision Trees, Support Vector Machines, k-Nearest Neighbors, linear regression\n",
    "unsupervised:\n",
    "DBSCAN, kMeans\n",
    "  \n",
    "</div>\n",
    "\n",
    "<output id=\"output_q_04\">\n",
    "</output>\n",
    "    \n",
    "<br><br>  \n",
    "\n",
    "<!--Question 5--> \n",
    "<label for=\"q_05\">\n",
    "Name a benefit of deep learning, in this case representation learning.\n",
    "</label><br>\n",
    "<textarea rows = \"5\" cols = \"50\" name = \"q_05\"></textarea><br>\n",
    "\n",
    "<div id=\"correct_q_05\" hidden=\"\">\n",
    "\n",
    "the algorithm learns the features from the data itself which eases classification or regression\n",
    "  \n",
    "</div>\n",
    "\n",
    "<output id=\"output_q_05\">\n",
    "</output>\n",
    "    \n",
    "<br><br>  \n",
    "\n",
    "\n",
    "\n",
    "<!--Question 7--> \n",
    "<label for=\"q_07\">\n",
    "What can be done against overfitting?\n",
    "\n",
    "</label><br>\n",
    "<input type=\"radio\" name=\"q_07\"> increase training time<br>\n",
    "<input type=\"radio\" name=\"q_07\"> split the dataset into training and validation set<br>\n",
    "<input type=\"radio\" name=\"q_07\"> increase the complexity of the input data<br>\n",
    "\n",
    "<div id=\"correct_q_07\" hidden=\"\">\n",
    "\n",
    "split the dataset into training and validation set\n",
    "  \n",
    "</div>\n",
    "\n",
    "<output id=\"output_q_07\">\n",
    "</output>\n",
    "    \n",
    "<br><br>\n",
    "\n",
    "<input type=\"submit\" value=\"Submit\" style=\"font-size:14pt\"><br><br>\n",
    "\n",
    "<output id=\"output_overall\">\n",
    "</output>\n",
    "</form>\n",
    "\n",
    "\n",
    "\n",
    "\n"
   ]
  },
  {
   "cell_type": "markdown",
   "metadata": {},
   "source": [
    "## Geospatial data analysis\n",
    "In the following we showcase a typical workflow for classification that involves first having a point cloud that can be exapnded by co-registration. Then neighborhood selection, followed by feature extraction and feature selection. Lastly we choose our classification model.  \n",
    "\n",
    "### Co-registration \n",
    "\n",
    "When working with point cloud data there may be two acquisitions from the same structure, therefore it is benefical to apply Co-registration to combine the multiple point clouds of interest. Typical algorithms include iterative closest point alogrithm or feature based matching algorithms. \n",
    "<center>\n",
    "<img src=\"images/coRegistration.png\" title=\"co-Registration of two Point clouds\" width=\"400\">\n",
    "\n",
    "<i>Co-registration of two point clouds, showing the Arc de triomphe from different angles. Here a feature based matching algorithm, along the corners of the building, might be more computationaly efficient. Figure from [thinkautomonous](https://www.thinkautonomous.ai/blog/point-cloud-registration). </i>\n",
    "\n",
    "</center>\n",
    "\n",
    "As can be seen in this image, with two point clouds of the Arc de triomphe in Paris, the co-registrated point cloud has more information about the subject of interest. Often co-registration is conducted to detect changes in the area, for example after natural disasters or after longer periods of time to show change in the scanned area.\n",
    "\n",
    "The following code provided by [E-Trainee](#references) in module 3 shows code to read las files with additional functionality and then registers two point-clouds from the hellstugubrean glacier. They are then shown with the python module polyscope.\n"
   ]
  },
  {
   "cell_type": "markdown",
   "metadata": {},
   "source": [
    "<form name=\"quiz\" action=\"\" method=\"post\" onsubmit=\"evaluate_quiz(); return false\">\n",
    "<!--Question 6--> \n",
    "<label for=\"q_06\">\n",
    "What are the two possibilities to define a spatial neighborhood in 3D point clouds?\n",
    "</label><br>\n",
    "<textarea rows = \"5\" cols = \"50\" name = \"q_06\"></textarea><br>\n",
    "\n",
    "<div id=\"correct_q_06\" hidden=\"\">\n",
    "\n",
    "Spatial neighborhoods in 3D point clouds can be defined via a fixed distance or a fixed number of neighbors.\n",
    "  \n",
    "</div>\n",
    "\n",
    "<output id=\"output_q_06\">\n",
    "</output>\n",
    "    \n",
    "<br><br> \n",
    "\n",
    "<input type=\"submit\" value=\"Submit\" style=\"font-size:14pt\"><br><br>\n",
    "\n",
    "<output id=\"output_overall\">\n",
    "</output>\n",
    "</form>\n"
   ]
  },
  {
   "cell_type": "code",
   "execution_count": 3,
   "metadata": {},
   "outputs": [],
   "source": [
    "# import required modules\n",
    "import laspy # import the laspy package for handling point cloud files\n",
    "import numpy as np # import numpy for array handling\n",
    "\n",
    "def read_las(infile,get_attributes=False,use_every=1):\n",
    "    \"\"\"\n",
    "    Function to read coordinates and optionally attribute information of point cloud data from las/laz file.\n",
    "\n",
    "    :param infile: specification of input file (format: las or laz)\n",
    "    :param get_attributes: if True, will return all attributes in file, otherwise will only return coordinates (default is False)\n",
    "    :param use_every: value specifies every n-th point to use from input, i.e. simple subsampling (default is 1, i.e. returning every point)\n",
    "    :return: Array of point coordinates of shape (N,3) with N number of points in input file (or subsampled by 'use_every')\n",
    "    \"\"\"\n",
    "\n",
    "    # read the file using the laspy read function\n",
    "    indata = laspy.read(infile)\n",
    "\n",
    "    # get the coordinates (XYZ) and stack them in a 3D array\n",
    "    coords = np.vstack((indata.x, indata.y, indata.z)).transpose()\n",
    "\n",
    "    # subsample the point cloud, if use_every = 1 will remain the full point cloud data\n",
    "    coords = coords[::use_every, :]\n",
    "\n",
    "    # read attributes if get_attributes is set to True\n",
    "    if get_attributes == True:\n",
    "        # get all attribute names in the las file as list\n",
    "        las_fields= list(indata.points.point_format.dimension_names)\n",
    "\n",
    "        # create a dictionary to store attributes\n",
    "        attributes = {}\n",
    "\n",
    "        # loop over all available fields in the las point cloud data\n",
    "        for las_field in las_fields[3:]: # skip the first three fields, which contain coordinate information (X,Y,Z)\n",
    "            attribute = np.array(indata.points[las_field]) # transpose shape to (N,1) to fit coordinates array\n",
    "            if np.sum(attribute)==0: # if field contains only 0, it is empty\n",
    "                continue\n",
    "            # add the attribute to the dictionary with the name (las_field) as key\n",
    "            attributes[las_field] = attribute[::use_every] # subsample by use_every, corresponding to point coordinates\n",
    "\n",
    "        # return coordinates and attribute data\n",
    "        return coords, attributes\n",
    "\n",
    "    else: # get_attributes == False\n",
    "        return coords  # return coordinates only\n",
    "    \n",
    "import polyscope as ps\n",
    "\n",
    "\n",
    "DATA_PATH = '../module3/hellstugubrean'\n",
    "\n",
    "# check if the specified data path exists\n",
    "import os\n",
    "if not os.path.isdir(DATA_PATH):\n",
    "    print(f'ERROR: {DATA_PATH} does not exist')\n",
    "    print('Please specify the correct path to the data directory.')\n",
    "\n",
    "# read data, but only every 100th point (for quick visualisation)\n",
    "data_2009 = read_las(DATA_PATH + \"/hellstugubrean_2009.las\", use_every=100, get_attributes=True)\n",
    "data_2017 = read_las(DATA_PATH + \"/hellstugubrean_2017.las\", use_every=100, get_attributes=True)"
   ]
  },
  {
   "cell_type": "code",
   "execution_count": null,
   "metadata": {},
   "outputs": [],
   "source": [
    "# start up polyscope\n",
    "ps.init()\n",
    "pc_2009 = ps.register_point_cloud(\"point cloud 2009\", data_2009[0])\n",
    "# for the ALS point cloud, add the Intensity as a scalar value\n",
    "pc_2009.add_scalar_quantity('Intensity', data_2009[1][\"intensity\"])\n",
    "pc_2017 = ps.register_point_cloud(\"point cloud 2017\", data_2017[0])\n",
    "# for the DIM point cloud, add RGB attributes. We need to provide them as a Nx3 array, so we stack red, green and blue together.\n",
    "# furthermore, they need to be values between 0 and 1, but are \"unsigned integer with 16 bit\", i.e. values between 0 and 65535.\n",
    "pc_2017.add_color_quantity('RGB', np.array([data_2017[1][\"red\"], data_2017[1][\"green\"], data_2017[1][\"blue\"]]).T / 65535)\n",
    "ps.set_up_dir(\"z_up\")\n",
    "ps.show()"
   ]
  },
  {
   "cell_type": "markdown",
   "metadata": {},
   "source": [
    "<center>\n",
    "<img src=\"images/screenshot_000001.png\" title=\"the hellstugubrean glacier scans layered on top of eachother\" width=\"700\">\n",
    "\n",
    "<i>\n",
    "\n",
    "Visualized with polyscope showing the two glacier point clouds in the same coordinate system. The point cloud from 2009 is colored in blue and the same glacier from 2017 colored in yellow. Figure from author.\n",
    "</i>\n",
    "</center>\n",
    "\n",
    "The previous figure illustrates how Co-registration is a vital procedure when working with point-cloud data. [E-Trainee](https://3dgeo-heidelberg.github.io/etrainee/module3/05_pointcloud_machine_learning/05_pointcloud_machine_learning.html) notes that the difference in height between the two point clouds, which can be seen most clearly in the centre of the image, is due to a \"significan[t] loss of mass from the glacier over these 8 years\". "
   ]
  },
  {
   "cell_type": "markdown",
   "metadata": {},
   "source": [
    "\n",
    "### Segmentation \n",
    "Multiple homogenous regions or clusters  with similar properties. There are different approaches to do this. Firstly euclidean clustering, then k-nearest neighbors and lastly spatial neighborhoods. \n",
    "### Neighborhood selection \n",
    "Calculations based on neighborhoods are among the most important ones, to gain additional information.\n",
    "They are necessary for any filtering, smoothing or interpolation step and for information extraction. \n",
    "\n",
    "Spatial neighborhoods are defined either by a certain distance to other points or to a certain amount of fixed neighbors [Weinmann et. al.,2015](#references)\n",
    "If its a certain distance then its considered a cylindircal neighborhood since it runs along the x and y axis. Otherwise if its 3D then they are called spherical neighborhoods because their height is also relevant. \n",
    "A point cloud neighborhood can also be defined by the fixed amount of neighbors. Fixed neighbors are also commonly called k-nearest neighbors and the size can be highly variable depending on the point density at that area. \n",
    "\n",
    "Various forms of information can be supplied by a spatial neighborhood. A easily obtainable one is the point density. With the following formula the amount of points contained inside of a 1 m radius can be calculated. \n",
    "$$ \n",
    "D = {k+1 \\over {4 \\over 3} \\pi r{^3}_{kNN}} \n",
    "$$\n",
    "\n",
    "With this information outliers can be removed easily through statistical outlier removal provided by the Point Cloud Library. \n"
   ]
  },
  {
   "cell_type": "markdown",
   "metadata": {},
   "source": [
    "\n",
    "### Feature Extraction\n",
    "After neighborhoods are defined, various features can be extracted. 3D-features can be calculated by using eigenvalues or looking at the geometric properties. Spatial neighborhoods allow the derivation of local surface roughness.\n",
    "<center>\n",
    "<img src=\"images/KitFeatures.png\" title=\"eigenwerte features\"  width=\"500\">\n",
    "\n",
    "<i>A subset of features that can be easily derived from eigenwerte. Figure and more details in [Weinmann(2019)](http://www.eurosdr.net/sites/default/files/images/inline/05-2019-12-04_presentation_pcp_workshop_weinmann.pdf).</i>\n",
    "</center>\n",
    "\n",
    "\n",
    "Ground removal is a important procedure when working with point cloud data. Ground points are always static, so it is not cost-effective to process them, using up time and computing power. \n",
    "Notable algortihms for this purpose are RANSAC (Random Sample Consensus), Ground Plane Fitting and Patchwork++. \n",
    "<center>\n",
    "<img src=\"images/groundRemoval.png\" alt=\"ground removal\" title=\"different algorithms for ground removal\" width=\"500\">\n",
    "\n",
    "<i>Showcasing different ground removal algorithms and Patchwork++ being shown as the least prone to over and underfitting.  Figure from [Seungjae Lee and Hyungtae Lim and Hyun Myung (2022)](https://arxiv.org/abs/2207.11919).</i>\n",
    "</center>\n",
    "<!--<img src=\"images/coRegistration.png\" title=\"co-Registration of two Point clouds\" height=\"180\">-->\n",
    "The RANSAC algortihm offers several benefits over regular linear regression. The model isnt as sensitive towards outliers because it splits the data into inliers and outliers, leading to a model that is less prone to be skewed by noise and outliers.\n",
    "\n",
    "Include?\n",
    "The following code snippet provided by [Scikit-learn](https://scikit-learn.org/stable/auto_examples/linear_model/plot_ransac.html) shows how to implement the algorithm and compares it to a linear regression with the same data. The RANSAC algorithm correctly models the truth and is thus the better approach. "
   ]
  },
  {
   "cell_type": "code",
   "execution_count": 5,
   "metadata": {},
   "outputs": [
    {
     "name": "stdout",
     "output_type": "stream",
     "text": [
      "Estimated coefficients (true, linear regression, RANSAC):\n",
      "82.1903908407869 [54.17236387] [82.08533159]\n"
     ]
    },
    {
     "data": {
      "image/png": "[encoded data removed]",
      "text/plain": [
       "<Figure size 640x480 with 1 Axes>"
      ]
     },
     "metadata": {},
     "output_type": "display_data"
    }
   ],
   "source": [
    "import numpy as np\n",
    "from matplotlib import pyplot as plt\n",
    "\n",
    "from sklearn import datasets, linear_model\n",
    "\n",
    "n_samples = 1000\n",
    "n_outliers = 50\n",
    "\n",
    "\n",
    "X, y, coef = datasets.make_regression(\n",
    "    n_samples=n_samples,\n",
    "    n_features=1,\n",
    "    n_informative=1,\n",
    "    noise=10,\n",
    "    coef=True,\n",
    "    random_state=0,\n",
    ")\n",
    "\n",
    "# Add outlier data\n",
    "np.random.seed(0)\n",
    "X[:n_outliers] = 3 + 0.5 * np.random.normal(size=(n_outliers, 1))\n",
    "y[:n_outliers] = -3 + 10 * np.random.normal(size=n_outliers)\n",
    "\n",
    "# Fit line using all data\n",
    "lr = linear_model.LinearRegression()\n",
    "lr.fit(X, y)\n",
    "\n",
    "# Robustly fit linear model with RANSAC algorithm\n",
    "ransac = linear_model.RANSACRegressor()\n",
    "ransac.fit(X, y)\n",
    "inlier_mask = ransac.inlier_mask_\n",
    "outlier_mask = np.logical_not(inlier_mask)\n",
    "\n",
    "# Predict data of estimated models\n",
    "line_X = np.arange(X.min(), X.max())[:, np.newaxis]\n",
    "line_y = lr.predict(line_X)\n",
    "line_y_ransac = ransac.predict(line_X)\n",
    "\n",
    "# Compare estimated coefficients\n",
    "print(\"Estimated coefficients (true, linear regression, RANSAC):\")\n",
    "print(coef, lr.coef_, ransac.estimator_.coef_)\n",
    "\n",
    "lw = 2\n",
    "plt.scatter(\n",
    "    X[inlier_mask], y[inlier_mask], color=\"yellowgreen\", marker=\".\", label=\"Inliers\"\n",
    ")\n",
    "plt.scatter(\n",
    "    X[outlier_mask], y[outlier_mask], color=\"gold\", marker=\".\", label=\"Outliers\"\n",
    ")\n",
    "plt.plot(line_X, line_y, color=\"navy\", linewidth=lw, label=\"Linear regressor\")\n",
    "plt.plot(\n",
    "    line_X,\n",
    "    line_y_ransac,\n",
    "    color=\"cornflowerblue\",\n",
    "    linewidth=lw,\n",
    "    label=\"RANSAC regressor\",\n",
    ")\n",
    "plt.legend(loc=\"lower right\")\n",
    "plt.xlabel(\"Input\")\n",
    "plt.ylabel(\"Response\")\n",
    "plt.show()"
   ]
  },
  {
   "cell_type": "markdown",
   "metadata": {},
   "source": [
    "\n",
    "\n",
    "\n",
    "### Classification\n",
    "\n",
    "The extracted features can then be used as input for classifieres that have been trained with representable data. Noteworthy classifiers include, Random Forest, Support Vector Machines, Nearest Neighbor classifiers, Decision Tree, Naïve bayesian classifier or Linear Discriminant Analysis.\n"
   ]
  },
  {
   "cell_type": "markdown",
   "metadata": {},
   "source": [
    "## Point-Cloud-Data Workflow"
   ]
  },
  {
   "cell_type": "code",
   "execution_count": 1,
   "metadata": {},
   "outputs": [],
   "source": [
    "import laspy\n",
    "import numpy as np "
   ]
  },
  {
   "cell_type": "markdown",
   "metadata": {},
   "source": [
    "#### Importing our Point-Cloud-Data\n",
    "This data is imported from [G-LiHT](https://glihtdata.gsfc.nasa.gov/) and then converted to .las format.\\\n",
    ".laz files can be used if laztools or lazrs are installed as backend. "
   ]
  },
  {
   "cell_type": "code",
   "execution_count": 2,
   "metadata": {},
   "outputs": [
    {
     "data": {
      "text/plain": [
       "['X',\n",
       " 'Y',\n",
       " 'Z',\n",
       " 'intensity',\n",
       " 'return_number',\n",
       " 'number_of_returns',\n",
       " 'scan_direction_flag',\n",
       " 'edge_of_flight_line',\n",
       " 'classification',\n",
       " 'synthetic',\n",
       " 'key_point',\n",
       " 'withheld',\n",
       " 'scan_angle_rank',\n",
       " 'user_data',\n",
       " 'point_source_id',\n",
       " 'gps_time']"
      ]
     },
     "execution_count": 2,
     "metadata": {},
     "output_type": "execute_result"
    }
   ],
   "source": [
    "las = laspy.read('Wertheim_Jun2016_c1r0.las')\n",
    "list(las.point_format.dimension_names)"
   ]
  },
  {
   "cell_type": "code",
   "execution_count": null,
   "metadata": {},
   "outputs": [
    {
     "data": {
      "text/plain": [
       "array([54584, 54552, 54525, ..., 50968, 50528, 50905], dtype=int32)"
      ]
     },
     "execution_count": 27,
     "metadata": {},
     "output_type": "execute_result"
    }
   ],
   "source": [
    "las.X\n"
   ]
  },
  {
   "cell_type": "code",
   "execution_count": null,
   "metadata": {},
   "outputs": [
    {
     "data": {
      "text/plain": [
       "array([   0, 1769,    0, ...,    0,    0,    0], dtype=uint16)"
      ]
     },
     "execution_count": 28,
     "metadata": {},
     "output_type": "execute_result"
    }
   ],
   "source": [
    "las.intensity\n"
   ]
  },
  {
   "cell_type": "code",
   "execution_count": null,
   "metadata": {},
   "outputs": [
    {
     "data": {
      "text/plain": [
       "array([62700.312283, 62700.322308, 62700.322312, ..., 65997.252258,\n",
       "       65997.252261, 65997.262269])"
      ]
     },
     "execution_count": 29,
     "metadata": {},
     "output_type": "execute_result"
    }
   ],
   "source": [
    "las.gps_time"
   ]
  },
  {
   "cell_type": "markdown",
   "metadata": {},
   "source": [
    "#### PCD Classifications\n",
    "With LAS 1.1-1.4 Specification there are defined categorys. \\\n",
    "<center>\n",
    "<img src=\"images/classifiedPlanes.png\" title=\"categorys in las spec\" width=\"300\">\n",
    "\n",
    "<i> Categories that are often to be found in las files. Figure from [arcgis](https://desktop.arcgis.com/en/arcmap/latest/manage-data/las-dataset/lidar-point-classification.html).\n",
    "\n",
    "</center>\n"
   ]
  },
  {
   "cell_type": "code",
   "execution_count": null,
   "metadata": {},
   "outputs": [
    {
     "data": {
      "text/plain": [
       "{1, 2}"
      ]
     },
     "execution_count": 30,
     "metadata": {},
     "output_type": "execute_result"
    }
   ],
   "source": [
    "set(list(las.classification))\n"
   ]
  },
  {
   "cell_type": "markdown",
   "metadata": {},
   "source": [
    "### Feature Selection"
   ]
  },
  {
   "cell_type": "code",
   "execution_count": null,
   "metadata": {},
   "outputs": [
    {
     "name": "stdout",
     "output_type": "stream",
     "text": [
      "5768386 points out of 19200669 were ground points.\n"
     ]
    }
   ],
   "source": [
    "ground = las.points[las.classification==2]\n",
    "print(\"%i points out of %i were ground points.\" % (len(ground),\n",
    "        len(las.points)))\n"
   ]
  },
  {
   "cell_type": "markdown",
   "metadata": {},
   "source": [
    "Calculate euclidean distance from all points to the first point\\\n",
    "Only keeps points that are less than 500000 units away from the first point\n",
    " source: https://laspy.readthedocs.io/en/latest/complete_tutorial.html"
   ]
  },
  {
   "cell_type": "code",
   "execution_count": null,
   "metadata": {},
   "outputs": [],
   "source": [
    "point_data = np.vstack([las.X,las.Y,las.Z]).transpose((1,0))"
   ]
  },
  {
   "cell_type": "code",
   "execution_count": null,
   "metadata": {},
   "outputs": [
    {
     "name": "stdout",
     "output_type": "stream",
     "text": [
      "We kept 1080 points out of 19200669 total\n"
     ]
    },
    {
     "name": "stderr",
     "output_type": "stream",
     "text": [
      "/var/folders/32/d8hn503d5glbm6qfn13x0zrw0000gp/T/ipykernel_36223/2782149354.py:3: RuntimeWarning: invalid value encountered in sqrt\n",
      "  distances = np.sqrt(np.sum((point_data - first_point) ** 2, axis=1))\n"
     ]
    }
   ],
   "source": [
    "first_point = point_data[0,:]\n",
    "\n",
    "distances = np.sqrt(np.sum((point_data - first_point) ** 2, axis=1))\n",
    "\n",
    "mask = distances < 500\n",
    "\n",
    "points_kept = las.points[mask]\n",
    "\n",
    "print(\"We kept %i points out of %i total\" % (len(points_kept), len(las.points)))"
   ]
  },
  {
   "cell_type": "markdown",
   "metadata": {},
   "source": [
    "Here we calculate the k nearest neighbors "
   ]
  },
  {
   "cell_type": "code",
   "execution_count": null,
   "metadata": {},
   "outputs": [
    {
     "name": "stdout",
     "output_type": "stream",
     "text": [
      "[100 101  98 124 126]\n",
      "[ 0.         27.82085549 28.44292531 40.16217126 41.23105626]\n"
     ]
    }
   ],
   "source": [
    "from scipy.spatial import KDTree\n",
    "tree = KDTree(point_data)\n",
    "neighbors_distance, neighbors_indices = tree.query(point_data[100], k=5)\n",
    "print(neighbors_indices)\n",
    "print(neighbors_distance)"
   ]
  },
  {
   "cell_type": "code",
   "execution_count": null,
   "metadata": {},
   "outputs": [
    {
     "data": {
      "image/png": "[encoded data removed]",
      "text/plain": [
       "<Figure size 640x480 with 1 Axes>"
      ]
     },
     "metadata": {},
     "output_type": "display_data"
    }
   ],
   "source": [
    "import matplotlib.pyplot as plt\n",
    "plt.hist(points_kept.intensity)\n",
    "plt.title(\"Histogram of the Intensity Dimension\")\n",
    "plt.show()"
   ]
  },
  {
   "cell_type": "code",
   "execution_count": null,
   "metadata": {},
   "outputs": [
    {
     "name": "stdout",
     "output_type": "stream",
     "text": [
      "Original Data:\n",
      "[[54584  6509   825]\n",
      " [54552  6538   818]\n",
      " [54525  6516   833]\n",
      " ...\n",
      " [50968  6704   935]\n",
      " [50528  6511  1719]\n",
      " [50905  6610   927]]\n"
     ]
    },
    {
     "name": "stdout",
     "output_type": "stream",
     "text": [
      "\n",
      "Variance of each feature:\n",
      "[7.27683094e+08 5.19919918e+08 4.97615240e+05]\n",
      "\n",
      "Selected Features Mask:\n",
      "[ True  True False]\n",
      "\n",
      "Filtered Data:\n",
      "[[54584  6509]\n",
      " [54552  6538]\n",
      " [54525  6516]\n",
      " ...\n",
      " [50968  6704]\n",
      " [50528  6511]\n",
      " [50905  6610]]\n"
     ]
    }
   ],
   "source": [
    "from sklearn.feature_selection import VarianceThreshold\n",
    "\n",
    "# Print the original data\n",
    "print(\"Original Data:\")\n",
    "print(point_data)\n",
    "\n",
    "# Step 1: Calculate variance of each feature\n",
    "variances = np.var(point_data, axis=0)\n",
    "print(\"\\nVariance of each feature:\")\n",
    "print(variances)\n",
    "\n",
    "# Step 2: Determine an appropriate threshold\n",
    "# You can start with a threshold slightly lower than the smallest variance you want to keep\n",
    "# For example, if you want to remove features with variance less than 1000000\n",
    "threshold = 1000000  # Adjust this value based on your variance analysis\n",
    "\n",
    "# Step 3: Apply Variance Threshold\n",
    "selector = VarianceThreshold(threshold=threshold)\n",
    "filtered_data = selector.fit_transform(point_data)\n",
    "\n",
    "# Print the selected features and filtered data\n",
    "print(\"\\nSelected Features Mask:\")\n",
    "print(selector.get_support())\n",
    "\n",
    "print(\"\\nFiltered Data:\")\n",
    "print(filtered_data)\n"
   ]
  },
  {
   "cell_type": "markdown",
   "metadata": {},
   "source": [
    "## references\n",
    "* Weinmann, M., Jutzi, B., Hinz, S., & Mallet, C. (2015). Semantic point cloud interpretation based on optimal neighborhoods, relevant features and efficient classifiers. ISPRS Journal of Photogrammetry and Remote Sensing, 105, pp. 286-304. doi: [10.1016/j.isprsjprs.2015.01.016](https://doi.org/10.1016/j.isprsjprs.2015.01.016).\n",
    "* Hughes, G. F., 1968. On the mean accuracy of statistical pattern recog-\n",
    "nizers. IEEE Transactions on Information Theory 14(1), pp. 55–63. ieee: [On the mean accuracy of statistical pattern recognizers](https://ieeexplore.ieee.org/document/1054102)\n",
    "* Blomley, R., Jutzi, B. and Weinmann, M., 2016. Classification of air-\n",
    "borne laser scanning data using geometric multi-scale features and dif-\n",
    "ferent neighbourhood types. In: ISPRS Annals of the Photogrammetry,\n",
    "Remote Sensing and Spatial Information Sciences, Prague, Czech Repub-\n",
    "lic, Vol. III-3, pp. 169–176. doi: [isprs-annals-III-3-169-2016](https://isprs-annals.copernicus.org/articles/III-3/169/2016/isprs-annals-III-3-169-2016.pdf)\n",
    "* Christopher D. Manning, Prabhakar Raghavan, Hinrich Schütze (2009). [Information retrieval](https://nlp.stanford.edu/IR-book/pdf/irbookonlinereading.pdf)\n",
    "#### E-Trainee\n",
    "* [module 3 lesson 5](https://3dgeo-heidelberg.github.io/etrainee/module3/05_pointcloud_machine_learning/05_pointcloud_machine_learning.html)\n",
    "* [module 3, lesson 1](https://3dgeo-heidelberg.github.io/etrainee/module3/01_pointcloud_principles/01_pointcloud_principles.html)\n",
    "#### scikit-learn\n",
    "* [RANSAC](https://scikit-learn.org/stable/auto_examples/linear_model/plot_ransac.html)\n"
   ]
  }
 ],
 "metadata": {
  "kernelspec": {
   "display_name": "open3d_env",
   "language": "python",
   "name": "python3"
  },
  "language_info": {
   "codemirror_mode": {
    "name": "ipython",
    "version": 3
   },
   "file_extension": ".py",
   "mimetype": "text/x-python",
   "name": "python",
   "nbconvert_exporter": "python",
   "pygments_lexer": "ipython3",
   "version": "3.8.19"
  }
 },
 "nbformat": 4,
 "nbformat_minor": 2
}
