{
 "cells": [
  {
   "cell_type": "code",
   "execution_count": 9,
   "metadata": {},
   "outputs": [
    {
     "data": {
      "text/html": [
       "<img src=\"https://planetarycomputer.microsoft.com/api/data/v1/item/preview.png?collection=landsat-c2-l2&item=LC08_L2SP_047027_20201204_02_T1&assets=red&assets=green&assets=blue&color_formula=gamma+RGB+2.7%2C+saturation+1.5%2C+sigmoidal+RGB+15+0.55&format=png\" width=\"700\"/>"
      ],
      "text/plain": [
       "<IPython.core.display.Image object>"
      ]
     },
     "execution_count": 9,
     "metadata": {},
     "output_type": "execute_result"
    }
   ],
   "source": [
    "from IPython.display import Image\n",
    "Image(url=selected_item.assets[\"rendered_preview\"].href, width = 700)"
   ]
  },
  {
   "cell_type": "code",
   "execution_count": 8,
   "metadata": {},
   "outputs": [
    {
     "data": {
      "text/plain": [
       "{'href': 'https://planetarycomputer.microsoft.com/api/data/v1/item/preview.png?collection=landsat-c2-l2&item=LC08_L2SP_047027_20201204_02_T1&assets=red&assets=green&assets=blue&color_formula=gamma+RGB+2.7%2C+saturation+1.5%2C+sigmoidal+RGB+15+0.55&format=png',\n",
       " 'type': 'image/png',\n",
       " 'title': 'Rendered preview',\n",
       " 'rel': 'preview',\n",
       " 'roles': ['overview']}"
      ]
     },
     "execution_count": 8,
     "metadata": {},
     "output_type": "execute_result"
    }
   ],
   "source": [
    "selected_item.assets[\"rendered_preview\"].to_dict()"
   ]
  },
  {
   "cell_type": "code",
   "execution_count": 7,
   "metadata": {},
   "outputs": [
    {
     "data": {
      "text/html": [
       "<pre style=\"white-space:pre;overflow-x:auto;line-height:normal;font-family:Menlo,'DejaVu Sans Mono',consolas,'Courier New',monospace\">┏━━━━━━━━━━━━━━━━━━┳━━━━━━━━━━━━━━━━━━━━━━━━━━━━━━━━━━━━━━━━━━━━━━━━━━━━━━━━━━━━━━━━━━━━━━┓\n",
       "┃<span style=\"font-weight: bold\"> asset Key        </span>┃<span style=\"font-weight: bold\"> Description                                                          </span>┃\n",
       "┡━━━━━━━━━━━━━━━━━━╇━━━━━━━━━━━━━━━━━━━━━━━━━━━━━━━━━━━━━━━━━━━━━━━━━━━━━━━━━━━━━━━━━━━━━━┩\n",
       "│ qa               │ Surface Temperature Quality Assessment Band                          │\n",
       "│ ang              │ Angle Coefficients File                                              │\n",
       "│ red              │ Red Band                                                             │\n",
       "│ blue             │ Blue Band                                                            │\n",
       "│ drad             │ Downwelled Radiance Band                                             │\n",
       "│ emis             │ Emissivity Band                                                      │\n",
       "│ emsd             │ Emissivity Standard Deviation Band                                   │\n",
       "│ trad             │ Thermal Radiance Band                                                │\n",
       "│ urad             │ Upwelled Radiance Band                                               │\n",
       "│ atran            │ Atmospheric Transmittance Band                                       │\n",
       "│ cdist            │ Cloud Distance Band                                                  │\n",
       "│ green            │ Green Band                                                           │\n",
       "│ nir08            │ Near Infrared Band 0.8                                               │\n",
       "│ lwir11           │ Surface Temperature Band                                             │\n",
       "│ swir16           │ Short-wave Infrared Band 1.6                                         │\n",
       "│ swir22           │ Short-wave Infrared Band 2.2                                         │\n",
       "│ coastal          │ Coastal/Aerosol Band                                                 │\n",
       "│ mtl.txt          │ Product Metadata File (txt)                                          │\n",
       "│ mtl.xml          │ Product Metadata File (xml)                                          │\n",
       "│ mtl.json         │ Product Metadata File (json)                                         │\n",
       "│ qa_pixel         │ Pixel Quality Assessment Band                                        │\n",
       "│ qa_radsat        │ Radiometric Saturation and Terrain Occlusion Quality Assessment Band │\n",
       "│ qa_aerosol       │ Aerosol Quality Assessment Band                                      │\n",
       "│ tilejson         │ TileJSON with default rendering                                      │\n",
       "│ rendered_preview │ Rendered preview                                                     │\n",
       "└──────────────────┴──────────────────────────────────────────────────────────────────────┘\n",
       "</pre>\n"
      ],
      "text/plain": [
       "┏━━━━━━━━━━━━━━━━━━┳━━━━━━━━━━━━━━━━━━━━━━━━━━━━━━━━━━━━━━━━━━━━━━━━━━━━━━━━━━━━━━━━━━━━━━┓\n",
       "┃\u001b[1m \u001b[0m\u001b[1masset Key       \u001b[0m\u001b[1m \u001b[0m┃\u001b[1m \u001b[0m\u001b[1mDescription                                                         \u001b[0m\u001b[1m \u001b[0m┃\n",
       "┡━━━━━━━━━━━━━━━━━━╇━━━━━━━━━━━━━━━━━━━━━━━━━━━━━━━━━━━━━━━━━━━━━━━━━━━━━━━━━━━━━━━━━━━━━━┩\n",
       "│ qa               │ Surface Temperature Quality Assessment Band                          │\n",
       "│ ang              │ Angle Coefficients File                                              │\n",
       "│ red              │ Red Band                                                             │\n",
       "│ blue             │ Blue Band                                                            │\n",
       "│ drad             │ Downwelled Radiance Band                                             │\n",
       "│ emis             │ Emissivity Band                                                      │\n",
       "│ emsd             │ Emissivity Standard Deviation Band                                   │\n",
       "│ trad             │ Thermal Radiance Band                                                │\n",
       "│ urad             │ Upwelled Radiance Band                                               │\n",
       "│ atran            │ Atmospheric Transmittance Band                                       │\n",
       "│ cdist            │ Cloud Distance Band                                                  │\n",
       "│ green            │ Green Band                                                           │\n",
       "│ nir08            │ Near Infrared Band 0.8                                               │\n",
       "│ lwir11           │ Surface Temperature Band                                             │\n",
       "│ swir16           │ Short-wave Infrared Band 1.6                                         │\n",
       "│ swir22           │ Short-wave Infrared Band 2.2                                         │\n",
       "│ coastal          │ Coastal/Aerosol Band                                                 │\n",
       "│ mtl.txt          │ Product Metadata File (txt)                                          │\n",
       "│ mtl.xml          │ Product Metadata File (xml)                                          │\n",
       "│ mtl.json         │ Product Metadata File (json)                                         │\n",
       "│ qa_pixel         │ Pixel Quality Assessment Band                                        │\n",
       "│ qa_radsat        │ Radiometric Saturation and Terrain Occlusion Quality Assessment Band │\n",
       "│ qa_aerosol       │ Aerosol Quality Assessment Band                                      │\n",
       "│ tilejson         │ TileJSON with default rendering                                      │\n",
       "│ rendered_preview │ Rendered preview                                                     │\n",
       "└──────────────────┴──────────────────────────────────────────────────────────────────────┘\n"
      ]
     },
     "execution_count": 7,
     "metadata": {},
     "output_type": "execute_result"
    }
   ],
   "source": [
    "import rich.table \n",
    "table = rich.table.Table(\"asset Key\", \"Description\")\n",
    "for asset_key, asset in selected_item.assets.items():\n",
    "        table.add_row(asset_key,asset.title)\n",
    "table"
   ]
  },
  {
   "cell_type": "code",
   "execution_count": 6,
   "metadata": {},
   "outputs": [
    {
     "name": "stdout",
     "output_type": "stream",
     "text": [
      "<Item id=LC08_L2SP_047027_20201204_02_T1>\n"
     ]
    }
   ],
   "source": [
    "selected_item = min(items,key= lambda item: item.properties[\"eo:cloud_cover\"])\n",
    "\n",
    "print(selected_item)"
   ]
  },
  {
   "cell_type": "code",
   "execution_count": null,
   "metadata": {},
   "outputs": [],
   "source": [
    "import geopandas\n",
    "df = geopandas.GeoDataFrame.from_features(items.to_dict(),crs = \"epsg:3426\")\n",
    "df"
   ]
  },
  {
   "cell_type": "code",
   "execution_count": null,
   "metadata": {},
   "outputs": [],
   "source": [
    "len(items)"
   ]
  },
  {
   "cell_type": "code",
   "execution_count": null,
   "metadata": {},
   "outputs": [],
   "source": [
    "time_range = \"2020-12-01/2020-12-31\"\n",
    "bbox = [-122.2751, 47.5469, -121.9613, 47.7458]\n",
    "\n",
    "search = catalog.search(collections=[\"landsat-c2-l2\"], bbox=bbox, datetime=time_range)\n",
    "items = search.get_all_items()\n",
    "len(items)"
   ]
  },
  {
   "cell_type": "code",
   "execution_count": null,
   "metadata": {},
   "outputs": [],
   "source": [
    "import pystac_client\n",
    "import planetary_computer\n",
    "\n",
    "catalog = pystac_client.Client.open(\n",
    "    \"https://planetarycomputer.microsoft.com/api/stac/v1\",\n",
    "    modifier=planetary_computer.sign_inplace,\n",
    ")"
   ]
  }
 ],
 "metadata": {
  "kernelspec": {
   "display_name": "Python 3",
   "language": "python",
   "name": "python3"
  },
  "language_info": {
   "codemirror_mode": {
    "name": "ipython",
    "version": 3
   },
   "file_extension": ".py",
   "mimetype": "text/x-python",
   "name": "python",
   "nbconvert_exporter": "python",
   "pygments_lexer": "ipython3",
   "version": "3.12.3"
  }
 },
 "nbformat": 4,
 "nbformat_minor": 2
}
