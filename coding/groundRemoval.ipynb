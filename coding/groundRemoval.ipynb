{
 "cells": [
  {
   "cell_type": "code",
   "execution_count": 1,
   "metadata": {},
   "outputs": [
    {
     "ename": "SyntaxError",
     "evalue": "invalid syntax. Perhaps you forgot a comma? (1246509890.py, line 1)",
     "output_type": "error",
     "traceback": [
      "\u001b[0;36m  Cell \u001b[0;32mIn[1], line 1\u001b[0;36m\u001b[0m\n\u001b[0;31m    fileName = fullfile(toolboxdir(\"lidar\"),\"lidardata\",\"las\", ...\u001b[0m\n\u001b[0m                                                               ^\u001b[0m\n\u001b[0;31mSyntaxError\u001b[0m\u001b[0;31m:\u001b[0m invalid syntax. Perhaps you forgot a comma?\n"
     ]
    }
   ],
   "source": [
    "fileName = fullfile(toolboxdir(\"lidar\"),\"lidardata\",\"las\", ...\n",
    "           \"aerialLidarData2.las\");\n",
    "lasReader = lasFileReader(fileName);\n",
    "ptCloud = readPointCloud(lasReader);\n",
    "[groundPtsIdx,nonGroundPtCloud,groundPtCloud] = segmentGroundSMRF(ptCloud);\n",
    "figure\n",
    "pcshowpair(groundPtCloud,nonGroundPtCloud)"
   ]
  }
 ],
 "metadata": {
  "kernelspec": {
   "display_name": "Visualization",
   "language": "python",
   "name": "python3"
  },
  "language_info": {
   "codemirror_mode": {
    "name": "ipython",
    "version": 3
   },
   "file_extension": ".py",
   "mimetype": "text/x-python",
   "name": "python",
   "nbconvert_exporter": "python",
   "pygments_lexer": "ipython3",
   "version": "3.12.3"
  }
 },
 "nbformat": 4,
 "nbformat_minor": 2
}
