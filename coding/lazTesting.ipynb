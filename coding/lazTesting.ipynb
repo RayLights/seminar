{
 "cells": [
  {
   "cell_type": "code",
   "execution_count": 13,
   "metadata": {},
   "outputs": [
    {
     "name": "stdout",
     "output_type": "stream",
     "text": [
      "Points from Header: 19200669\n"
     ]
    },
    {
     "name": "stdout",
     "output_type": "stream",
     "text": [
      "<LasData(1.1, point fmt: <PointFormat(1, 0 bytes of extra dims)>, 19200669 points, 2 vlrs)>\n",
      "Points from data: 19200669\n"
     ]
    }
   ],
   "source": [
    "import numpy as np\n",
    "import laspy\n",
    "\n",
    "with laspy.open('Wertheim_jun2016_c1r0.las') as fh:\n",
    "    print('Points from Header:', fh.header.point_count)\n",
    "    las = fh.read()\n",
    "    print(las)\n",
    "    print('Points from data:', len(las.points))\n",
    "    #old 18827077"
   ]
  }
 ],
 "metadata": {
  "kernelspec": {
   "display_name": "myenv",
   "language": "python",
   "name": "python3"
  },
  "language_info": {
   "codemirror_mode": {
    "name": "ipython",
    "version": 3
   },
   "file_extension": ".py",
   "mimetype": "text/x-python",
   "name": "python",
   "nbconvert_exporter": "python",
   "pygments_lexer": "ipython3",
   "version": "3.12.3"
  }
 },
 "nbformat": 4,
 "nbformat_minor": 2
}
